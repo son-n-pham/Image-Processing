{
 "cells": [
  {
   "cell_type": "code",
   "execution_count": 1,
   "id": "796586e0-bf58-4dbd-a653-6f3837ee958e",
   "metadata": {},
   "outputs": [
    {
     "name": "stdout",
     "output_type": "stream",
     "text": [
      "Collecting opencv-python\n",
      "  Downloading opencv_python-4.6.0.66-cp36-abi3-win_amd64.whl (35.6 MB)\n",
      "Requirement already satisfied: numpy>=1.17.3 in c:\\users\\phamsonn\\anaconda3\\envs\\jupyter_lab\\lib\\site-packages (from opencv-python) (1.23.4)\n",
      "Installing collected packages: opencv-python\n",
      "Successfully installed opencv-python-4.6.0.66\n"
     ]
    }
   ],
   "source": [
    "!pip install opencv-python"
   ]
  },
  {
   "cell_type": "markdown",
   "id": "dbe2e420-c93a-4a7b-9117-1747afaf624b",
   "metadata": {},
   "source": [
    "## 1. Get acquainted with OpenCV"
   ]
  },
  {
   "cell_type": "code",
   "execution_count": 2,
   "id": "25c55d62-a32a-4d1c-9392-9c6ea0b6d665",
   "metadata": {},
   "outputs": [],
   "source": [
    "import cv2"
   ]
  },
  {
   "cell_type": "code",
   "execution_count": 4,
   "id": "8d7e3f76-0e92-4872-b376-862c18121507",
   "metadata": {},
   "outputs": [],
   "source": [
    "# List all methods with cv2\n",
    "# dir(cv2)"
   ]
  },
  {
   "cell_type": "code",
   "execution_count": 168,
   "id": "dcc693cc-3b33-47ae-be2b-687d503d413a",
   "metadata": {},
   "outputs": [
    {
     "name": "stdout",
     "output_type": "stream",
     "text": [
      "Dimension number of color is: 3\n",
      "Type of color is: <class 'numpy.ndarray'>\n"
     ]
    }
   ],
   "source": [
    "# Assign\n",
    "color = cv2.imread('./galaxy.jpeg', 1)\n",
    "# print(color)\n",
    "print(f\"Dimension number of color is: {color.ndim}\")\n",
    "print(f\"Type of color is: {type(color)}\")"
   ]
  },
  {
   "cell_type": "code",
   "execution_count": 169,
   "id": "d92d821c-e592-4fe9-ae72-85bf3c9932b5",
   "metadata": {},
   "outputs": [
    {
     "name": "stdout",
     "output_type": "stream",
     "text": [
      "Dimension number of color is: 2\n",
      "Type of color is: <class 'numpy.ndarray'>\n"
     ]
    }
   ],
   "source": [
    "gray = cv2.imread('galaxy.jpeg', 0)\n",
    "print(f\"Dimension number of color is: {gray.ndim}\")\n",
    "print(f\"Type of color is: {type(gray)}\")"
   ]
  },
  {
   "cell_type": "code",
   "execution_count": 170,
   "id": "007748a1-66ed-4f59-974f-606ad64897c5",
   "metadata": {},
   "outputs": [
    {
     "data": {
      "text/plain": [
       "True"
      ]
     },
     "execution_count": 170,
     "metadata": {},
     "output_type": "execute_result"
    }
   ],
   "source": [
    "# Export gray image to jpeg file\n",
    "cv2.imwrite('galaxy-gray.jpeg', gray)"
   ]
  },
  {
   "cell_type": "markdown",
   "id": "a4512377-3f54-42f4-b6e9-8dcd586a2d1d",
   "metadata": {},
   "source": [
    "## 2. Exercise: Convert color images in a folder to grayscale"
   ]
  },
  {
   "cell_type": "markdown",
   "id": "0f9758f0-5e32-4fb3-8718-158a4c08b9cd",
   "metadata": {},
   "source": [
    "### Retrieve list of files in images folder"
   ]
  },
  {
   "cell_type": "code",
   "execution_count": 30,
   "id": "3c592436-a8b6-406a-8949-de9b1d59583c",
   "metadata": {},
   "outputs": [],
   "source": [
    "from pathlib import Path, PurePath"
   ]
  },
  {
   "cell_type": "code",
   "execution_count": 31,
   "id": "84f2adec-847b-45ba-8e3c-e38ab16b384e",
   "metadata": {},
   "outputs": [
    {
     "data": {
      "text/plain": [
       "[WindowsPath('.git'),\n",
       " WindowsPath('.gitignore'),\n",
       " WindowsPath('.ipynb_checkpoints'),\n",
       " WindowsPath('galaxy-gray.jpeg'),\n",
       " WindowsPath('galaxy.jpeg'),\n",
       " WindowsPath('image_processing.ipynb'),\n",
       " WindowsPath('README.md')]"
      ]
     },
     "execution_count": 31,
     "metadata": {},
     "output_type": "execute_result"
    }
   ],
   "source": [
    "p = Path('.')\n",
    "list(p.glob('*.*'))"
   ]
  },
  {
   "cell_type": "code",
   "execution_count": 109,
   "id": "c3753846-74af-4e4d-b82f-ea0fa45f7dd0",
   "metadata": {},
   "outputs": [],
   "source": [
    "# iterate through all folders and check if 'images' is in folder names\n",
    "# pull the folder with index 0, and use glob to list all files in the images folder\n",
    "images_folder = [folder for folder in p.iterdir() if (folder.is_dir() and 'images' in str(folder))][0].glob('*.*')\n",
    "\n",
    "# check if jpeg in file extension\n",
    "images = [image for image in images_folder if 'jpeg' in str(image)]"
   ]
  },
  {
   "cell_type": "markdown",
   "id": "7c5bb5c0-3502-409b-85af-d7c0f6c85555",
   "metadata": {},
   "source": [
    "### Make new folder grayimages"
   ]
  },
  {
   "cell_type": "code",
   "execution_count": 127,
   "id": "d97a6505-a1fc-454a-8700-85fd7fb1fe29",
   "metadata": {},
   "outputs": [],
   "source": [
    "new_folder = './grayimages'\n",
    "Path(new_folder).mkdir(exist_ok=True)"
   ]
  },
  {
   "cell_type": "code",
   "execution_count": 166,
   "id": "5a77e029-6724-473e-9d57-8bf5a2c7aac7",
   "metadata": {},
   "outputs": [
    {
     "name": "stdout",
     "output_type": "stream",
     "text": [
      "<class 'str'>\n"
     ]
    }
   ],
   "source": [
    "print(type(str(images[0].as_posix())))"
   ]
  },
  {
   "cell_type": "markdown",
   "id": "de9b874d-9f77-4a9d-870e-313537faac15",
   "metadata": {},
   "source": [
    "### Convert color images to grayscale then put them into grayimages folder\n",
    "Lesson-learnt: Both imread and imwrite need file path as string, not Pathlib objects"
   ]
  },
  {
   "cell_type": "code",
   "execution_count": 175,
   "id": "5a8b1636-a313-46b2-9fb5-29e586d4bb92",
   "metadata": {},
   "outputs": [],
   "source": [
    "for image in images:\n",
    "    gray_file = cv2.imread(str(image.as_posix()), 0)\n",
    "    cv2.imwrite(f\"{new_folder}/gray_{image.name}\", gray_file)"
   ]
  },
  {
   "cell_type": "markdown",
   "id": "a1183dd6-ceee-45e0-bbf9-6d93e052c8a4",
   "metadata": {},
   "source": [
    "## 3. Resize Image"
   ]
  },
  {
   "cell_type": "code",
   "execution_count": 178,
   "id": "68f06460-498e-4c65-a90e-4cce25865b74",
   "metadata": {},
   "outputs": [
    {
     "name": "stdout",
     "output_type": "stream",
     "text": [
      "(779, 438, 3)\n"
     ]
    }
   ],
   "source": [
    "import cv2\n",
    "\n",
    "image = cv2.imread('galaxy.jpeg')\n",
    "print(image.shape) # Check size of image"
   ]
  },
  {
   "cell_type": "code",
   "execution_count": 28,
   "id": "b43542ed-b859-4981-8560-1ac6ebf77794",
   "metadata": {},
   "outputs": [],
   "source": [
    "import cv2\n",
    "from pathlib import Path\n",
    "\n",
    "def calculate_size(scale, width, height):\n",
    "    scaled_width = int(width * scale/100)\n",
    "    scaled_height = int(height * scale/100)\n",
    "    return (scaled_width, scaled_height)\n",
    "\n",
    "def resize_image(image_path, scale, interpolation=cv2.INTER_LINEAR, resized_folder='./resized'):\n",
    "    \"\"\"\n",
    "    Options of interpolation:\n",
    "    cv2.INTER_AREA: Preferable for reducing size\n",
    "    cv2.INTER_CUBIC\n",
    "    cv2.INTER_LINEAR\n",
    "    cv2.INTER_NEAREST\n",
    "    \"\"\"\n",
    "   \n",
    "    # Scale type for scaled image name\n",
    "    scale_int = str(interpolation)\n",
    "    if scale_int == \"0\":\n",
    "        scale_type = 'INTER_NEAREST'\n",
    "    if scale_int == \"1\":\n",
    "        scale_type = 'INTER_LINEAR'\n",
    "    if scale_int == \"2\":\n",
    "        scale_type = 'INTER_CUBIC'\n",
    "    if scale_int == \"3\":\n",
    "        scale_type = 'INTER_AREA'\n",
    "\n",
    "    Path(resized_folder).mkdir(exist_ok=True) # Make new resized folder\n",
    "    \n",
    "    image = cv2.imread(image_path) # Read image\n",
    "    [height, width, _] = image.shape # Extract image dimensions\n",
    "    (scaled_width, scaled_height) = calculate_size(scale, width, height) # Calculated scaled size\n",
    "    \n",
    "    # Resize image\n",
    "    resized_image = cv2.resize(src = image,\n",
    "                               dsize = (scaled_width, scaled_height), \n",
    "                               interpolation=interpolation)\n",
    "    \n",
    "    # Write image\n",
    "    cv2.imwrite(f'{resized_folder}/scale_{scale}pct_{scale_type}_{Path(image_path).name}', resized_image)    \n",
    "    return resized_image"
   ]
  },
  {
   "cell_type": "code",
   "execution_count": 31,
   "id": "83db0715-e002-4eb0-9498-0f0fa65c7fd2",
   "metadata": {},
   "outputs": [],
   "source": [
    "target_image = './resized/scale_20pct_INTER_NEAREST_galaxy.jpeg'"
   ]
  },
  {
   "cell_type": "code",
   "execution_count": 36,
   "id": "5deaf7e8-59de-4b95-9081-4fc9ac149c09",
   "metadata": {},
   "outputs": [
    {
     "data": {
      "text/plain": [
       "array([[[7, 2, 4],\n",
       "        [7, 2, 4],\n",
       "        [7, 2, 4],\n",
       "        ...,\n",
       "        [3, 0, 2],\n",
       "        [3, 0, 2],\n",
       "        [3, 0, 2]],\n",
       "\n",
       "       [[7, 2, 4],\n",
       "        [7, 2, 4],\n",
       "        [7, 2, 4],\n",
       "        ...,\n",
       "        [3, 0, 2],\n",
       "        [3, 0, 2],\n",
       "        [3, 0, 2]],\n",
       "\n",
       "       [[7, 2, 4],\n",
       "        [7, 2, 4],\n",
       "        [7, 2, 4],\n",
       "        ...,\n",
       "        [3, 0, 2],\n",
       "        [3, 0, 2],\n",
       "        [3, 0, 2]],\n",
       "\n",
       "       ...,\n",
       "\n",
       "       [[3, 1, 1],\n",
       "        [3, 1, 1],\n",
       "        [3, 1, 1],\n",
       "        ...,\n",
       "        [6, 1, 2],\n",
       "        [6, 1, 2],\n",
       "        [6, 1, 2]],\n",
       "\n",
       "       [[3, 1, 1],\n",
       "        [3, 1, 1],\n",
       "        [3, 1, 1],\n",
       "        ...,\n",
       "        [6, 1, 2],\n",
       "        [6, 1, 2],\n",
       "        [6, 1, 2]],\n",
       "\n",
       "       [[3, 1, 1],\n",
       "        [3, 1, 1],\n",
       "        [3, 1, 1],\n",
       "        ...,\n",
       "        [6, 1, 2],\n",
       "        [6, 1, 2],\n",
       "        [6, 1, 2]]], dtype=uint8)"
      ]
     },
     "execution_count": 36,
     "metadata": {},
     "output_type": "execute_result"
    }
   ],
   "source": [
    "output = resize_image('galaxy.jpeg', 20, cv2.INTER_AREA )\n",
    "resize_image(target_image, 2000, cv2.INTER_AREA )"
   ]
  },
  {
   "cell_type": "code",
   "execution_count": 37,
   "id": "1c7987c6-004c-489b-bebb-f0db639a98c6",
   "metadata": {},
   "outputs": [
    {
     "data": {
      "text/plain": [
       "array([[[7, 2, 4],\n",
       "        [7, 2, 4],\n",
       "        [7, 2, 4],\n",
       "        ...,\n",
       "        [3, 0, 2],\n",
       "        [3, 0, 2],\n",
       "        [3, 0, 2]],\n",
       "\n",
       "       [[7, 2, 4],\n",
       "        [7, 2, 4],\n",
       "        [7, 2, 4],\n",
       "        ...,\n",
       "        [3, 0, 2],\n",
       "        [3, 0, 2],\n",
       "        [3, 0, 2]],\n",
       "\n",
       "       [[7, 2, 4],\n",
       "        [7, 2, 4],\n",
       "        [7, 2, 4],\n",
       "        ...,\n",
       "        [3, 0, 2],\n",
       "        [3, 0, 2],\n",
       "        [3, 0, 2]],\n",
       "\n",
       "       ...,\n",
       "\n",
       "       [[3, 1, 1],\n",
       "        [3, 1, 1],\n",
       "        [3, 1, 1],\n",
       "        ...,\n",
       "        [6, 1, 2],\n",
       "        [6, 1, 2],\n",
       "        [6, 1, 2]],\n",
       "\n",
       "       [[3, 1, 1],\n",
       "        [3, 1, 1],\n",
       "        [3, 1, 1],\n",
       "        ...,\n",
       "        [6, 1, 2],\n",
       "        [6, 1, 2],\n",
       "        [6, 1, 2]],\n",
       "\n",
       "       [[3, 1, 1],\n",
       "        [3, 1, 1],\n",
       "        [3, 1, 1],\n",
       "        ...,\n",
       "        [6, 1, 2],\n",
       "        [6, 1, 2],\n",
       "        [6, 1, 2]]], dtype=uint8)"
      ]
     },
     "execution_count": 37,
     "metadata": {},
     "output_type": "execute_result"
    }
   ],
   "source": [
    "resize_image('galaxy.jpeg', 20, cv2.INTER_NEAREST )\n",
    "resize_image(target_image, 2000, cv2.INTER_NEAREST )"
   ]
  },
  {
   "cell_type": "code",
   "execution_count": 38,
   "id": "6cc5975d-2c6b-45ff-a9bc-cc3a1f04c394",
   "metadata": {},
   "outputs": [
    {
     "data": {
      "text/plain": [
       "array([[[7, 2, 4],\n",
       "        [7, 2, 4],\n",
       "        [7, 2, 4],\n",
       "        ...,\n",
       "        [3, 0, 2],\n",
       "        [3, 0, 2],\n",
       "        [3, 0, 2]],\n",
       "\n",
       "       [[7, 2, 4],\n",
       "        [7, 2, 4],\n",
       "        [7, 2, 4],\n",
       "        ...,\n",
       "        [3, 0, 2],\n",
       "        [3, 0, 2],\n",
       "        [3, 0, 2]],\n",
       "\n",
       "       [[7, 2, 4],\n",
       "        [7, 2, 4],\n",
       "        [7, 2, 4],\n",
       "        ...,\n",
       "        [3, 0, 2],\n",
       "        [3, 0, 2],\n",
       "        [3, 0, 2]],\n",
       "\n",
       "       ...,\n",
       "\n",
       "       [[3, 1, 1],\n",
       "        [3, 1, 1],\n",
       "        [3, 1, 1],\n",
       "        ...,\n",
       "        [6, 1, 2],\n",
       "        [6, 1, 2],\n",
       "        [6, 1, 2]],\n",
       "\n",
       "       [[3, 1, 1],\n",
       "        [3, 1, 1],\n",
       "        [3, 1, 1],\n",
       "        ...,\n",
       "        [6, 1, 2],\n",
       "        [6, 1, 2],\n",
       "        [6, 1, 2]],\n",
       "\n",
       "       [[3, 1, 1],\n",
       "        [3, 1, 1],\n",
       "        [3, 1, 1],\n",
       "        ...,\n",
       "        [6, 1, 2],\n",
       "        [6, 1, 2],\n",
       "        [6, 1, 2]]], dtype=uint8)"
      ]
     },
     "execution_count": 38,
     "metadata": {},
     "output_type": "execute_result"
    }
   ],
   "source": [
    "resize_image('galaxy.jpeg', 20, cv2.INTER_CUBIC)\n",
    "resize_image(target_image, 2000, cv2.INTER_CUBIC)"
   ]
  },
  {
   "cell_type": "code",
   "execution_count": 39,
   "id": "a60ee270-7b5f-4ef0-a31c-7a9775f3f8ed",
   "metadata": {},
   "outputs": [
    {
     "data": {
      "text/plain": [
       "array([[[7, 2, 4],\n",
       "        [7, 2, 4],\n",
       "        [7, 2, 4],\n",
       "        ...,\n",
       "        [3, 0, 2],\n",
       "        [3, 0, 2],\n",
       "        [3, 0, 2]],\n",
       "\n",
       "       [[7, 2, 4],\n",
       "        [7, 2, 4],\n",
       "        [7, 2, 4],\n",
       "        ...,\n",
       "        [3, 0, 2],\n",
       "        [3, 0, 2],\n",
       "        [3, 0, 2]],\n",
       "\n",
       "       [[7, 2, 4],\n",
       "        [7, 2, 4],\n",
       "        [7, 2, 4],\n",
       "        ...,\n",
       "        [3, 0, 2],\n",
       "        [3, 0, 2],\n",
       "        [3, 0, 2]],\n",
       "\n",
       "       ...,\n",
       "\n",
       "       [[3, 1, 1],\n",
       "        [3, 1, 1],\n",
       "        [3, 1, 1],\n",
       "        ...,\n",
       "        [6, 1, 2],\n",
       "        [6, 1, 2],\n",
       "        [6, 1, 2]],\n",
       "\n",
       "       [[3, 1, 1],\n",
       "        [3, 1, 1],\n",
       "        [3, 1, 1],\n",
       "        ...,\n",
       "        [6, 1, 2],\n",
       "        [6, 1, 2],\n",
       "        [6, 1, 2]],\n",
       "\n",
       "       [[3, 1, 1],\n",
       "        [3, 1, 1],\n",
       "        [3, 1, 1],\n",
       "        ...,\n",
       "        [6, 1, 2],\n",
       "        [6, 1, 2],\n",
       "        [6, 1, 2]]], dtype=uint8)"
      ]
     },
     "execution_count": 39,
     "metadata": {},
     "output_type": "execute_result"
    }
   ],
   "source": [
    "resize_image('galaxy.jpeg', 20, cv2.INTER_LINEAR )\n",
    "resize_image(target_image, 2000, cv2.INTER_LINEAR )"
   ]
  },
  {
   "cell_type": "code",
   "execution_count": null,
   "id": "52a8006e-b495-4b0f-9add-1e80a03dc906",
   "metadata": {},
   "outputs": [],
   "source": []
  },
  {
   "cell_type": "code",
   "execution_count": null,
   "id": "e6bc1990-5d9b-48df-8977-76921dd5647a",
   "metadata": {},
   "outputs": [],
   "source": []
  }
 ],
 "metadata": {
  "kernelspec": {
   "display_name": "Python 3 (ipykernel)",
   "language": "python",
   "name": "python3"
  },
  "language_info": {
   "codemirror_mode": {
    "name": "ipython",
    "version": 3
   },
   "file_extension": ".py",
   "mimetype": "text/x-python",
   "name": "python",
   "nbconvert_exporter": "python",
   "pygments_lexer": "ipython3",
   "version": "3.8.5"
  }
 },
 "nbformat": 4,
 "nbformat_minor": 5
}
